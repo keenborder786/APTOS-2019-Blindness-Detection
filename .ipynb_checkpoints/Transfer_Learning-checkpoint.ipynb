{
 "cells": [
  {
   "cell_type": "code",
   "execution_count": 0,
   "metadata": {
    "colab": {
     "base_uri": "https://localhost:8080/",
     "height": 496
    },
    "colab_type": "code",
    "id": "y4bt-h5N6Jnd",
    "outputId": "7020220c-56d6-42ed-a39e-5c5e491598fe"
   },
   "outputs": [
    {
     "name": "stdout",
     "output_type": "stream",
     "text": [
      "Collecting pydrive\n",
      "\u001b[?25l  Downloading https://files.pythonhosted.org/packages/52/e0/0e64788e5dd58ce2d6934549676243dc69d982f198524be9b99e9c2a4fd5/PyDrive-1.3.1.tar.gz (987kB)\n",
      "\u001b[K     |████████████████████████████████| 993kB 3.4MB/s \n",
      "\u001b[?25hRequirement already satisfied: google-api-python-client>=1.2 in /usr/local/lib/python3.6/dist-packages (from pydrive) (1.7.10)\n",
      "Requirement already satisfied: oauth2client>=4.0.0 in /usr/local/lib/python3.6/dist-packages (from pydrive) (4.1.3)\n",
      "Requirement already satisfied: PyYAML>=3.0 in /usr/local/lib/python3.6/dist-packages (from pydrive) (3.13)\n",
      "Requirement already satisfied: six<2dev,>=1.6.1 in /usr/local/lib/python3.6/dist-packages (from google-api-python-client>=1.2->pydrive) (1.12.0)\n",
      "Requirement already satisfied: google-auth>=1.4.1 in /usr/local/lib/python3.6/dist-packages (from google-api-python-client>=1.2->pydrive) (1.4.2)\n",
      "Requirement already satisfied: google-auth-httplib2>=0.0.3 in /usr/local/lib/python3.6/dist-packages (from google-api-python-client>=1.2->pydrive) (0.0.3)\n",
      "Requirement already satisfied: httplib2<1dev,>=0.9.2 in /usr/local/lib/python3.6/dist-packages (from google-api-python-client>=1.2->pydrive) (0.11.3)\n",
      "Requirement already satisfied: uritemplate<4dev,>=3.0.0 in /usr/local/lib/python3.6/dist-packages (from google-api-python-client>=1.2->pydrive) (3.0.0)\n",
      "Requirement already satisfied: pyasn1-modules>=0.0.5 in /usr/local/lib/python3.6/dist-packages (from oauth2client>=4.0.0->pydrive) (0.2.6)\n",
      "Requirement already satisfied: pyasn1>=0.1.7 in /usr/local/lib/python3.6/dist-packages (from oauth2client>=4.0.0->pydrive) (0.4.6)\n",
      "Requirement already satisfied: rsa>=3.1.4 in /usr/local/lib/python3.6/dist-packages (from oauth2client>=4.0.0->pydrive) (4.0)\n",
      "Requirement already satisfied: cachetools>=2.0.0 in /usr/local/lib/python3.6/dist-packages (from google-auth>=1.4.1->google-api-python-client>=1.2->pydrive) (3.1.1)\n",
      "Building wheels for collected packages: pydrive\n",
      "  Building wheel for pydrive (setup.py) ... \u001b[?25l\u001b[?25hdone\n",
      "  Created wheel for pydrive: filename=PyDrive-1.3.1-cp36-none-any.whl size=27435 sha256=ba4d4fb5bcab82dce4e43bf80fee156366432f41826eada2ed0aa4f880dca349\n",
      "  Stored in directory: /root/.cache/pip/wheels/fa/d2/9a/d3b6b506c2da98289e5d417215ce34b696db856643bad779f4\n",
      "Successfully built pydrive\n",
      "Installing collected packages: pydrive\n",
      "Successfully installed pydrive-1.3.1\n",
      "Go to this URL in a browser: https://accounts.google.com/o/oauth2/auth?client_id=947318989803-6bn6qk8qdgf4n4g3pfee6491hc0brc4i.apps.googleusercontent.com&redirect_uri=urn%3Aietf%3Awg%3Aoauth%3A2.0%3Aoob&scope=email%20https%3A%2F%2Fwww.googleapis.com%2Fauth%2Fdocs.test%20https%3A%2F%2Fwww.googleapis.com%2Fauth%2Fdrive%20https%3A%2F%2Fwww.googleapis.com%2Fauth%2Fdrive.photos.readonly%20https%3A%2F%2Fwww.googleapis.com%2Fauth%2Fpeopleapi.readonly&response_type=code\n",
      "\n",
      "Enter your authorization code:\n",
      "··········\n",
      "Mounted at /content/gdrive\n"
     ]
    }
   ],
   "source": [
    "!pip install pydrive##google drive linked as this notebook was made on google colab\n",
    "from google.colab import drive\n",
    "drive.mount('/content/gdrive')"
   ]
  },
  {
   "cell_type": "code",
   "execution_count": 1,
   "metadata": {
    "colab": {
     "base_uri": "https://localhost:8080/",
     "height": 91,
     "resources": {
      "http://localhost:8080/nbextensions/google.colab/files.js": {
       "data": "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",
       "headers": [
        [
         "content-type",
         "application/javascript"
        ]
       ],
       "ok": true,
       "status": 200,
       "status_text": ""
      }
     }
    },
    "colab_type": "code",
    "id": "eArhoJUXdqF7",
    "outputId": "595deeab-fa0e-4cad-efea-7e01756203a9"
   },
   "outputs": [],
   "source": [
    "root_path = 'gdrive/My Drive/your_project_folder/'  #change dir to your project folder##kaggle json file uploaded\n",
    "from google.colab import files\n",
    "files.upload()  #this will prompt you to upload the kaggle.json"
   ]
  },
  {
   "cell_type": "code",
   "execution_count": 0,
   "metadata": {
    "colab": {
     "base_uri": "https://localhost:8080/",
     "height": 34
    },
    "colab_type": "code",
    "id": "SyPSX0jshaVY",
    "outputId": "715a9053-3ea6-423f-a30f-33900a85715a"
   },
   "outputs": [
    {
     "name": "stdout",
     "output_type": "stream",
     "text": [
      "kaggle.json\n"
     ]
    }
   ],
   "source": [
    "# !pip install -q kaggle\n",
    "!mkdir -p ~/.kaggle\n",
    "!cp kaggle.json ~/.kaggle/\n",
    "!ls ~/.kaggle\n",
    "!chmod 600 /root/.kaggle/kaggle.json  # set permission"
   ]
  },
  {
   "cell_type": "code",
   "execution_count": 0,
   "metadata": {
    "colab": {
     "base_uri": "https://localhost:8080/",
     "height": 765
    },
    "colab_type": "code",
    "id": "9uCkgCrghpkr",
    "outputId": "a9c2fbd8-9805-4670-cfdb-1ce75bf55a70"
   },
   "outputs": [
    {
     "name": "stdout",
     "output_type": "stream",
     "text": [
      "ref                                                         title                                                size  lastUpdated          downloadCount  \n",
      "----------------------------------------------------------  --------------------------------------------------  -----  -------------------  -------------  \n",
      "AnalyzeBoston/crimes-in-boston                              Crimes in Boston                                     10MB  2018-09-04 17:56:03          10009  \n",
      "matheusfreitag/gas-prices-in-brazil                         Gas Prices in Brazil                                  3MB  2019-07-12 16:23:52           5455  \n",
      "jealousleopard/goodreadsbooks                               Goodreads-books                                     632KB  2019-06-14 16:35:05           9245  \n",
      "wkirgsn/electric-motor-temperature                          Electric Motor Temperature                           47MB  2019-06-19 11:12:41           3465  \n",
      "jolasa/waves-measuring-buoys-data-mooloolaba                Waves Measuring Buoys Data                          599KB  2019-07-07 16:59:44           1044  \n",
      "sudalairajkumar/chennai-water-management                    Chennai Water Management                             75KB  2019-06-19 03:42:44           6326  \n",
      "doit-intl/autotel-shared-car-locations                      Shared Cars Locations                                78MB  2019-01-10 13:06:00           1085  \n",
      "eliasdabbas/search-engine-results-flights-tickets-keywords  Search Engine Results - Flights & Tickets Keywords   24MB  2019-08-15 13:12:18           2029  \n",
      "r3w0p4/recorded-crime-data-at-police-force-area-level       Recorded Crime Data at the Police Force Area Level  300KB  2019-06-21 15:16:46           1833  \n",
      "r3w0p4/bournemouth-venues                                   Venues in Bournemouth                                 3KB  2019-07-08 14:26:48            659  \n",
      "Madgrades/uw-madison-courses                                UW Madison Courses and Grades 2006-2017              90MB  2018-05-15 18:58:25           1267  \n",
      "datafiniti/womens-shoes-prices                              Women's Shoe Prices                                  12MB  2019-06-24 22:50:14          10671  \n",
      "datafiniti/pizza-restaurants-and-the-pizza-they-sell        Pizza Restaurants and the Pizza They Sell           850KB  2019-05-30 00:21:21           5338  \n",
      "citylines/city-lines                                        Transit systems of world                              3MB  2019-03-25 16:53:05           1899  \n",
      "citizen-ds-ghana/health-facilities-gh                       Ghana Health Facilities                              84KB  2018-09-03 01:19:24            871  \n",
      "inIT-OWL/vega-shrinkwrapper-runtofailure-data               Vega shrink-wrapper component degradation           408KB  2018-11-12 13:03:43            265  \n",
      "university-of-edinburgh/peace-agreements-dataset            Peace Agreements Dataset                              1MB  2018-03-05 16:39:50            626  \n",
      "lakshyaag/india-trade-data                                  India - Trade Data                                    1MB  2019-08-16 16:13:58            229  \n",
      "datasnaek/youtube-new                                       Trending YouTube Video Statistics                   199MB  2019-06-03 00:56:47          46128  \n",
      "pavanraj159/predicting-a-pulsar-star                        Predicting a Pulsar Star                            771KB  2018-05-09 14:25:54           5283  \n",
      "ref                                            deadline             category            reward  teamCount  userHasEntered  \n",
      "---------------------------------------------  -------------------  ---------------  ---------  ---------  --------------  \n",
      "digit-recognizer                               2030-01-01 00:00:00  Getting Started  Knowledge       2849           False  \n",
      "titanic                                        2030-01-01 00:00:00  Getting Started  Knowledge      11372            True  \n",
      "house-prices-advanced-regression-techniques    2030-01-01 00:00:00  Getting Started  Knowledge       4335           False  \n",
      "imagenet-object-localization-challenge         2029-12-31 07:00:00  Research         Knowledge         49           False  \n",
      "competitive-data-science-predict-future-sales  2019-12-31 23:59:00  Playground           Kudos       3914            True  \n",
      "understanding_cloud_organization               2019-11-18 23:59:00  Research           $10,000         52           False  \n",
      "severstal-steel-defect-detection               2019-10-24 23:59:00  Featured          $120,000        680            True  \n",
      "kuzushiji-recognition                          2019-10-14 23:59:00  Playground         $15,000        119           False  \n",
      "ieee-fraud-detection                           2019-10-01 23:59:00  Research           $20,000       3111            True  \n",
      "open-images-2019-object-detection              2019-10-01 23:59:00  Research           $25,000        425           False  \n",
      "open-images-2019-visual-relationship           2019-10-01 23:59:00  Research           $25,000        135           False  \n",
      "open-images-2019-instance-segmentation         2019-10-01 23:59:00  Research           $25,000         77           False  \n",
      "recursion-cellular-image-classification        2019-09-26 23:59:00  Research           $13,000        653           False  \n",
      "youtube8m-2019                                 2019-09-13 23:59:00  Research           $25,000        199           False  \n",
      "aptos2019-blindness-detection                  2019-09-05 23:59:00  Featured           $50,000       2588            True  \n",
      "ciphertext-challenge-iii                       2019-09-05 23:59:00  Playground            Swag         67           False  \n",
      "siim-acr-pneumothorax-segmentation             2019-09-04 23:59:00  Featured           $30,000       1417           False  \n",
      "generative-dog-images                          2019-08-31 23:59:00  Research           $10,000        927           False  \n",
      "champs-scalar-coupling                         2019-08-28 23:59:00  Featured           $30,000       2598           False  \n",
      "recognizing-faces-in-the-wild                  2019-08-08 23:59:00  Playground       Knowledge        528           False  \n"
     ]
    }
   ],
   "source": [
    "#List datasets and competitions\n",
    "!kaggle datasets list   \n",
    "!kaggle competitions list"
   ]
  },
  {
   "cell_type": "code",
   "execution_count": 0,
   "metadata": {
    "colab": {
     "base_uri": "https://localhost:8080/",
     "height": 272
    },
    "colab_type": "code",
    "id": "POBQLF24h1J5",
    "outputId": "f537e243-f113-4d69-d195-3e6b74199393"
   },
   "outputs": [
    {
     "name": "stdout",
     "output_type": "stream",
     "text": [
      "Downloading train_images.zip to /content/gdrive/My Drive/kaggle/Blindnessdetection\n",
      "100% 8.01G/8.01G [01:24<00:00, 70.9MB/s]\n",
      "100% 8.01G/8.01G [01:24<00:00, 102MB/s] \n",
      "Downloading test_images.zip to /content/gdrive/My Drive/kaggle/Blindnessdetection\n",
      "100% 1.50G/1.50G [00:16<00:00, 96.7MB/s]\n",
      "100% 1.50G/1.50G [00:16<00:00, 95.9MB/s]\n",
      "Downloading train.csv to /content/gdrive/My Drive/kaggle/Blindnessdetection\n",
      "  0% 0.00/53.7k [00:00<?, ?B/s]\n",
      "100% 53.7k/53.7k [00:00<00:00, 3.58MB/s]\n",
      "Downloading test.csv to /content/gdrive/My Drive/kaggle/Blindnessdetection\n",
      "  0% 0.00/24.5k [00:00<?, ?B/s]\n",
      "100% 24.5k/24.5k [00:00<00:00, 94.9kB/s]\n",
      "Downloading sample_submission.csv to /content/gdrive/My Drive/kaggle/Blindnessdetection\n",
      "  0% 0.00/28.3k [00:00<?, ?B/s]\n",
      "100% 28.3k/28.3k [00:00<00:00, 4.01MB/s]\n"
     ]
    }
   ],
   "source": [
    "!kaggle competitions download -c aptos2019-blindness-detection -p /content/gdrive/My\\ Drive/kaggle/Blindnessdetection##downloaded the data"
   ]
  },
  {
   "cell_type": "code",
   "execution_count": 0,
   "metadata": {
    "colab": {},
    "colab_type": "code",
    "id": "ptCNYnrVjTIF"
   },
   "outputs": [],
   "source": [
    "import os\n",
    "os.chdir('/content/gdrive/My Drive/kaggle/Blindnessdetection')  #change dir\n",
    "!mkdir train  #create a directory named train/\n",
    "!mkdir test  #create a directory named test/"
   ]
  },
  {
   "cell_type": "code",
   "execution_count": 0,
   "metadata": {
    "colab": {},
    "colab_type": "code",
    "id": "ydJ2Sx2DjWLf"
   },
   "outputs": [],
   "source": [
    "!unzip -q train_images.zip -d train/  #unzip data in train/\n",
    "!unzip -q test_images.zip -d test/  #unzip data in train/"
   ]
  },
  {
   "cell_type": "code",
   "execution_count": 0,
   "metadata": {
    "colab": {
     "base_uri": "https://localhost:8080/",
     "height": 34
    },
    "colab_type": "code",
    "id": "BJDQ7uc19sHw",
    "outputId": "6bbab76e-db79-494e-8902-81e8b84b6a39"
   },
   "outputs": [
    {
     "name": "stderr",
     "output_type": "stream",
     "text": [
      "Using TensorFlow backend.\n"
     ]
    }
   ],
   "source": [
    "##imports \n",
    "import cv2\n",
    "import os\n",
    "import pandas as pd\n",
    "import numpy as np\n",
    "from tqdm import tqdm\n",
    "import matplotlib.pyplot as plt\n",
    "from tensorflow import keras \n",
    "from tensorflow.keras import datasets, layers, models\n",
    "from sklearn.model_selection import train_test_split\n",
    "from tensorflow.keras.models import Sequential\n",
    "from tensorflow.keras.layers import Dense, Dropout, Flatten\n",
    "from tensorflow.keras.layers import Conv2D, MaxPooling2D, BatchNormalization\n",
    "from tensorflow.keras.models import Model\n",
    "from tensorflow.keras import applications\n",
    "from keras import optimizers\n",
    "import time\n",
    "from sklearn.utils import class_weight\n",
    "from tensorflow.keras.applications.inception_resnet_v2 import InceptionResNetV2\n",
    "from tensorflow.keras.applications.nasnet import NASNetMobile\n",
    "from tensorflow.keras.models import load_model\n",
    "import pandas as pd\n",
    "\n",
    "\n",
    "\n",
    "os.chdir('/content/gdrive/My Drive/kaggle/Blindnessdetection')\n",
    "\n",
    "root_logdir = os.path.join(os.curdir, \"my_logs\")###tensoboard logs\n",
    "\n",
    "def get_run_logdir():##helper function to store different models name with associated time\n",
    "    run_id = time.strftime(\"run_%Y_%m_%d-%H_%M_%S\")  \n",
    "    return os.path.join(root_logdir, run_id)"
   ]
  },
  {
   "cell_type": "code",
   "execution_count": null,
   "metadata": {},
   "outputs": [],
   "source": []
  },
  {
   "cell_type": "code",
   "execution_count": 0,
   "metadata": {
    "colab": {
     "base_uri": "https://localhost:8080/",
     "height": 676
    },
    "colab_type": "code",
    "id": "fyCVZN5WVE9V",
    "outputId": "de47094c-2b4e-473e-c0af-bdb383d811d5"
   },
   "outputs": [
    {
     "name": "stdout",
     "output_type": "stream",
     "text": [
      "Base-Model Loaded\n",
      "Train on 3295 samples, validate on 367 samples\n",
      "Epoch 1/20\n",
      "3295/3295 [==============================] - 1922s 583ms/sample - loss: 0.9035 - acc: 0.6838 - val_loss: 0.9727 - val_acc: 0.7384\n",
      "Epoch 2/20\n",
      "3295/3295 [==============================] - 86s 26ms/sample - loss: 0.6690 - acc: 0.7599 - val_loss: 0.6553 - val_acc: 0.7575\n",
      "Epoch 3/20\n",
      "3295/3295 [==============================] - 74s 23ms/sample - loss: 0.6924 - acc: 0.7672 - val_loss: 42400.7233 - val_acc: 0.1989\n",
      "Epoch 4/20\n",
      "3295/3295 [==============================] - 74s 22ms/sample - loss: 0.6331 - acc: 0.7666 - val_loss: 5526.3017 - val_acc: 0.3161\n",
      "Epoch 5/20\n",
      "3295/3295 [==============================] - 85s 26ms/sample - loss: 0.5537 - acc: 0.7866 - val_loss: 0.5654 - val_acc: 0.7684\n",
      "Epoch 6/20\n",
      "3295/3295 [==============================] - 86s 26ms/sample - loss: 0.4880 - acc: 0.8073 - val_loss: 0.5213 - val_acc: 0.7929\n",
      "Epoch 7/20\n",
      "3295/3295 [==============================] - 74s 23ms/sample - loss: 0.4809 - acc: 0.8067 - val_loss: 0.7520 - val_acc: 0.7602\n",
      "Epoch 8/20\n",
      "3295/3295 [==============================] - 74s 22ms/sample - loss: 0.4073 - acc: 0.8370 - val_loss: 0.5640 - val_acc: 0.7520\n",
      "Epoch 9/20\n",
      "3295/3295 [==============================] - 90s 27ms/sample - loss: 0.3779 - acc: 0.8458 - val_loss: 0.6319 - val_acc: 0.7820\n"
     ]
    },
    {
     "data": {
      "image/png": "[encoded data removed]",
      "text/plain": [
       "<Figure size 576x360 with 1 Axes>"
      ]
     },
     "metadata": {
      "tags": []
     },
     "output_type": "display_data"
    }
   ],
   "source": [
    "class CNN_transfer_learning(object):\n",
    "  \n",
    "  \n",
    "  \n",
    "  def __init__(self,optimizer,loss,metrics,pre_trained_model,pre_trained_model_training):##class intiation\n",
    "    self.optimizer=optimizer\n",
    "    self.loss=loss\n",
    "    self.metrics=metrics\n",
    "    self.history={}\n",
    "    self.base_model=self.create_base_model(pre_trained_model,pre_trained_model_training)\n",
    "    self.model=self.create_model()\n",
    "                                           \n",
    "  \n",
    "  def create_base_model(self,pre_trained_model,pre_trained_model_training):##base model -the pretrained model\n",
    "    ''''\n",
    "    Description: pre_trained_model=Which model do you want to pick up\n",
    "                 pre_trained_model_training=Do you want the pre_trained model to train or if false then wieght should be fix\n",
    "                 This model makes a pre-defined model but the upper layer are not taken as we want to make the model adaptable to\n",
    "                 our input\n",
    "     return base_model\n",
    "     '''\n",
    "    \n",
    "    \n",
    "    if pre_trained_model=='InceptionResNetV2':\n",
    "      print(\"Base-Model Loaded\")\n",
    "      base_model =InceptionResNetV2(include_top=False, weights=\"imagenet\",input_shape=(224,224,3))###using famous pre-trained model \n",
    "    elif pre_trained_model==\"NASNetMobile\":\n",
    "      print(\"Base-Model Loaded\")\n",
    "      base_model =NASNetMobile(include_top=False, weights=\"imagenet\",input_shape=(224,224,3))###using famous pre-trained model \n",
    "    for layer in base_model.layers:\n",
    "      layer.trainable = pre_trained_model_training\n",
    "\n",
    "    return base_model\n",
    "  \n",
    "  \n",
    "  def create_model(self):\n",
    "    '''\n",
    "    Description=Combines the pretrained model with a one layer of Conv2d and Pool2d and one fully connected Layer\n",
    "    \n",
    "    returns  final model\n",
    "    \n",
    "    '''\n",
    "    \n",
    "    x = self.base_model.output\n",
    "\n",
    "    x = Conv2D(filters=64, kernel_size=(3, 3), activation='relu')(x)\n",
    "    x = MaxPooling2D(pool_size=(2, 2))(x)\n",
    "    x = Conv2D(filters=64, kernel_size=(1, 1), activation='relu')(x)\n",
    "    x = MaxPooling2D(pool_size=(1, 1))(x)\n",
    "    \n",
    "    x = Flatten()(x)\n",
    "    x = Dense(1024, activation='relu')(x)\n",
    "    x = Dropout(0.5)(x)\n",
    "    x = Dense(5, activation='softmax')(x)\n",
    "      \n",
    "    model =Model(self.base_model.input, x, name=\"base_model\")\n",
    "\n",
    "\n",
    "\n",
    "    model.compile(loss=self.loss,\n",
    "                         optimizer=self.optimizer,\n",
    "                         metrics=[self.metrics])\n",
    "    return model\n",
    "      \n",
    "      \n",
    "  def train(self,X,y):##trains the model\n",
    "    y_integers = np.argmax(y, axis=1)##Convert the one hot encoded y to numercial labels(0,1,2,3)-just for the sake for wieght changing ,final y does not change\n",
    "    class_weights = class_weight.compute_class_weight('balanced', np.unique(y_integers), y_integers)##chanage the class wieghts, make the data balanced\n",
    "    d_class_weights = dict(enumerate(class_weights))##take the final class wieghts\n",
    "      \n",
    "      \n",
    "    X=X.reshape(-1,224,224,3)##X value reshape accord to requirement of our neural net\n",
    "    X, X_valid, y, y_valid = train_test_split(X, y, test_size=0.1)\n",
    "    \n",
    "    run_logdir = get_run_logdir()##tensorboard log\n",
    "    tensorboard_cb = keras.callbacks.TensorBoard(run_logdir)##Tensorboad callback\n",
    "    early_stopping_cb = keras.callbacks.EarlyStopping(patience=3,restore_best_weights=True)#early stopping\n",
    "    \n",
    "    checkpoint_cb = keras.callbacks.ModelCheckpoint(\"my_keras_model.h5\",\n",
    "                                                    save_best_only=True) #checkpoint for saving the model\n",
    "    \n",
    "    \n",
    "    history = self.model.fit(X, y, epochs=20,\n",
    "                        validation_data=(X_valid, y_valid),\n",
    "                        callbacks=[checkpoint_cb,tensorboard_cb,early_stopping_cb])\n",
    "    self.history=history\n",
    "    \n",
    "    return history\n",
    "    \n",
    "  \n",
    "  \n",
    "  def plot_result(self):##plots the final result of model\n",
    "    \n",
    "    pd.DataFrame(self.history.history).plot(figsize=(8, 5))\n",
    "    plt.grid(True)\n",
    "    plt.title(f\"Result with following paramaters  Loss={self.loss}---Optimizer={self.optimizer}--metrics={self.metrics}\")\n",
    "    plt.gca().set_ylim(0, 3) # set the vertical range to [0-1]\n",
    "    plt.show\n",
    "  def predict(self,X_test):##predicts the data\n",
    "    model = load_model('InceptionResNetV2-TwolayerConv.h5')\n",
    "    X_test=X_test.reshape(-1,224,224,3)\n",
    "    X_test=X_test/255\n",
    "    y_test=model.predict(X_test)\n",
    "    y_test=[np.argmax(s) for s in y_test]\n",
    "    df=pd.DataFrame()\n",
    "    df[\"Categories\"]=y_test\n",
    "    np.save(\"y_test\",y_test)\n",
    "    \n",
    "    return df\n",
    "      \n",
    "    \n",
    "  \n",
    "Transfer_learning=CNN_transfer_learning(optimizer=\"adam\",loss=\"categorical_crossentropy\",metrics=\"accuracy\",pre_trained_model=\"InceptionResNetV2\",pre_trained_model_training=True)\n",
    "\n",
    "X=np.load(\"X_train.npy\")\n",
    "y=np.load(\"y_train.npy\")\n",
    "X=X/255\n",
    "Transfer_learning.train(X,y)\n",
    "Transfer_learning.plot_result()\n"
   ]
  },
  {
   "cell_type": "code",
   "execution_count": 0,
   "metadata": {
    "colab": {
     "base_uri": "https://localhost:8080/",
     "height": 221
    },
    "colab_type": "code",
    "id": "IjbbfxNYZT3s",
    "outputId": "a80f9a12-85ce-4011-d64c-839c0f6c69fe"
   },
   "outputs": [
    {
     "name": "stdout",
     "output_type": "stream",
     "text": [
      "Base-Model Loaded\n"
     ]
    },
    {
     "data": {
      "text/html": [
       "<div>\n",
       "<style scoped>\n",
       "    .dataframe tbody tr th:only-of-type {\n",
       "        vertical-align: middle;\n",
       "    }\n",
       "\n",
       "    .dataframe tbody tr th {\n",
       "        vertical-align: top;\n",
       "    }\n",
       "\n",
       "    .dataframe thead th {\n",
       "        text-align: right;\n",
       "    }\n",
       "</style>\n",
       "<table border=\"1\" class=\"dataframe\">\n",
       "  <thead>\n",
       "    <tr style=\"text-align: right;\">\n",
       "      <th></th>\n",
       "      <th>Categories</th>\n",
       "    </tr>\n",
       "  </thead>\n",
       "  <tbody>\n",
       "    <tr>\n",
       "      <th>0</th>\n",
       "      <td>1</td>\n",
       "    </tr>\n",
       "    <tr>\n",
       "      <th>1</th>\n",
       "      <td>3</td>\n",
       "    </tr>\n",
       "    <tr>\n",
       "      <th>2</th>\n",
       "      <td>2</td>\n",
       "    </tr>\n",
       "    <tr>\n",
       "      <th>3</th>\n",
       "      <td>3</td>\n",
       "    </tr>\n",
       "    <tr>\n",
       "      <th>4</th>\n",
       "      <td>3</td>\n",
       "    </tr>\n",
       "  </tbody>\n",
       "</table>\n",
       "</div>"
      ],
      "text/plain": [
       "   Categories\n",
       "0           1\n",
       "1           3\n",
       "2           2\n",
       "3           3\n",
       "4           3"
      ]
     },
     "execution_count": 14,
     "metadata": {
      "tags": []
     },
     "output_type": "execute_result"
    }
   ],
   "source": [
    "Transfer_learning=CNN_transfer_learning(optimizer=\"adam\",loss=\"categorical_crossentropy\",metrics=\"accuracy\",pre_trained_model=\"InceptionResNetV2\",pre_trained_model_training=True)\n",
    "X_test=np.load(\"X_test.npy\")\n",
    "df=Transfer_learning.predict(X_test)\n",
    "df.head()"
   ]
  },
  {
   "cell_type": "code",
   "execution_count": 0,
   "metadata": {
    "colab": {},
    "colab_type": "code",
    "id": "67uUVk9EAMDc"
   },
   "outputs": [],
   "source": []
  }
 ],
 "metadata": {
  "accelerator": "GPU",
  "colab": {
   "collapsed_sections": [],
   "machine_shape": "hm",
   "name": "Transfer-Learning.ipynb",
   "provenance": [],
   "version": "0.3.2"
  },
  "kernelspec": {
   "display_name": "Python 3",
   "language": "python",
   "name": "python3"
  },
  "language_info": {
   "codemirror_mode": {
    "name": "ipython",
    "version": 3
   },
   "file_extension": ".py",
   "mimetype": "text/x-python",
   "name": "python",
   "nbconvert_exporter": "python",
   "pygments_lexer": "ipython3",
   "version": "3.7.1"
  }
 },
 "nbformat": 4,
 "nbformat_minor": 1
}
